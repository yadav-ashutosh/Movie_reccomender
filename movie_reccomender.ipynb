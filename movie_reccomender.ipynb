{
 "cells": [
  {
   "cell_type": "markdown",
   "id": "a81693ac",
   "metadata": {},
   "source": [
    "## Visualizing and cleaning dataset tables"
   ]
  },
  {
   "cell_type": "code",
   "execution_count": 1,
   "id": "3b84bad0",
   "metadata": {
    "scrolled": true
   },
   "outputs": [
    {
     "data": {
      "text/html": [
       "<div>\n",
       "<style scoped>\n",
       "    .dataframe tbody tr th:only-of-type {\n",
       "        vertical-align: middle;\n",
       "    }\n",
       "\n",
       "    .dataframe tbody tr th {\n",
       "        vertical-align: top;\n",
       "    }\n",
       "\n",
       "    .dataframe thead th {\n",
       "        text-align: right;\n",
       "    }\n",
       "</style>\n",
       "<table border=\"1\" class=\"dataframe\">\n",
       "  <thead>\n",
       "    <tr style=\"text-align: right;\">\n",
       "      <th></th>\n",
       "      <th>UserID</th>\n",
       "      <th>MovieID</th>\n",
       "      <th>Rating</th>\n",
       "    </tr>\n",
       "  </thead>\n",
       "  <tbody>\n",
       "    <tr>\n",
       "      <th>0</th>\n",
       "      <td>1</td>\n",
       "      <td>1193</td>\n",
       "      <td>5</td>\n",
       "    </tr>\n",
       "    <tr>\n",
       "      <th>1</th>\n",
       "      <td>1</td>\n",
       "      <td>661</td>\n",
       "      <td>3</td>\n",
       "    </tr>\n",
       "    <tr>\n",
       "      <th>2</th>\n",
       "      <td>1</td>\n",
       "      <td>914</td>\n",
       "      <td>3</td>\n",
       "    </tr>\n",
       "    <tr>\n",
       "      <th>3</th>\n",
       "      <td>1</td>\n",
       "      <td>3408</td>\n",
       "      <td>4</td>\n",
       "    </tr>\n",
       "    <tr>\n",
       "      <th>4</th>\n",
       "      <td>1</td>\n",
       "      <td>2355</td>\n",
       "      <td>5</td>\n",
       "    </tr>\n",
       "    <tr>\n",
       "      <th>...</th>\n",
       "      <td>...</td>\n",
       "      <td>...</td>\n",
       "      <td>...</td>\n",
       "    </tr>\n",
       "    <tr>\n",
       "      <th>194537</th>\n",
       "      <td>1200</td>\n",
       "      <td>2762</td>\n",
       "      <td>5</td>\n",
       "    </tr>\n",
       "    <tr>\n",
       "      <th>194538</th>\n",
       "      <td>1200</td>\n",
       "      <td>1999</td>\n",
       "      <td>3</td>\n",
       "    </tr>\n",
       "    <tr>\n",
       "      <th>194539</th>\n",
       "      <td>1200</td>\n",
       "      <td>3753</td>\n",
       "      <td>3</td>\n",
       "    </tr>\n",
       "    <tr>\n",
       "      <th>194540</th>\n",
       "      <td>1200</td>\n",
       "      <td>3917</td>\n",
       "      <td>4</td>\n",
       "    </tr>\n",
       "    <tr>\n",
       "      <th>194541</th>\n",
       "      <td>1200</td>\n",
       "      <td>1093</td>\n",
       "      <td>5</td>\n",
       "    </tr>\n",
       "  </tbody>\n",
       "</table>\n",
       "<p>194542 rows × 3 columns</p>\n",
       "</div>"
      ],
      "text/plain": [
       "        UserID  MovieID  Rating\n",
       "0            1     1193       5\n",
       "1            1      661       3\n",
       "2            1      914       3\n",
       "3            1     3408       4\n",
       "4            1     2355       5\n",
       "...        ...      ...     ...\n",
       "194537    1200     2762       5\n",
       "194538    1200     1999       3\n",
       "194539    1200     3753       3\n",
       "194540    1200     3917       4\n",
       "194541    1200     1093       5\n",
       "\n",
       "[194542 rows x 3 columns]"
      ]
     },
     "execution_count": 1,
     "metadata": {},
     "output_type": "execute_result"
    }
   ],
   "source": [
    "import numpy as np\n",
    "import pandas as pd\n",
    "\n",
    "data = pd.read_table('movies.dat' ,sep  =\"::\", engine='python')\n",
    "users = pd.read_table('ratings.dat' , sep='::' , engine='python')\n",
    "users.drop(users[users['UserID'] > 1200].index, inplace = True)\n",
    "users.drop(columns='Timestap', axis=1)\n"
   ]
  },
  {
   "cell_type": "code",
   "execution_count": 2,
   "id": "b2fc4825",
   "metadata": {
    "scrolled": true
   },
   "outputs": [
    {
     "name": "stdout",
     "output_type": "stream",
     "text": [
      "         0                    Movie Name(Year)                         Genre\n",
      "0        1                    Toy Story (1995)   Animation|Children's|Comedy\n",
      "1        2                      Jumanji (1995)  Adventure|Children's|Fantasy\n",
      "2        3             Grumpier Old Men (1995)                Comedy|Romance\n",
      "3        4            Waiting to Exhale (1995)                  Comedy|Drama\n",
      "4        5  Father of the Bride Part II (1995)                        Comedy\n",
      "...    ...                                 ...                           ...\n",
      "3878  3948             Meet the Parents (2000)                        Comedy\n",
      "3879  3949          Requiem for a Dream (2000)                         Drama\n",
      "3880  3950                    Tigerland (2000)                         Drama\n",
      "3881  3951             Two Family House (2000)                         Drama\n",
      "3882  3952               Contender, The (2000)                Drama|Thriller\n",
      "\n",
      "[3883 rows x 3 columns]\n"
     ]
    }
   ],
   "source": [
    "print(data)"
   ]
  },
  {
   "cell_type": "code",
   "execution_count": 14,
   "id": "2910e54e",
   "metadata": {
    "scrolled": true
   },
   "outputs": [
    {
     "name": "stdout",
     "output_type": "stream",
     "text": [
      "        1  2\n",
      "1      53  0\n",
      "2     129  0\n",
      "3      51  0\n",
      "4      21  0\n",
      "5     198  0\n",
      "...   ... ..\n",
      "1196  112  0\n",
      "1197   24  0\n",
      "1198  102  0\n",
      "1199  179  0\n",
      "1200   39  0\n",
      "\n",
      "[1200 rows x 2 columns]\n"
     ]
    }
   ],
   "source": [
    "import matplotlib.pyplot as plt\n",
    "import seaborn as sns\n",
    "%matplotlib inline\n",
    "sns.set()\n",
    "avr_row = list(range(1, 1201))\n",
    "cols = [1 ,2] \n",
    "avg_plot = pd.DataFrame(0, index=avr_row, columns=cols)\n",
    "for index, row in users.iterrows():\n",
    "    avg_plot.at[row['UserID'],1] +=1\n",
    "    \n",
    "print(avg_plot)  "
   ]
  },
  {
   "cell_type": "markdown",
   "id": "bd0a9f69",
   "metadata": {},
   "source": [
    "## Plot below shows no. of movies rated by every user"
   ]
  },
  {
   "cell_type": "code",
   "execution_count": 15,
   "id": "808789d2",
   "metadata": {},
   "outputs": [
    {
     "data": {
      "text/plain": [
       "<AxesSubplot:>"
      ]
     },
     "execution_count": 15,
     "metadata": {},
     "output_type": "execute_result"
    },
    {
     "data": {
      "image/png": "[encoded data removed]",
      "text/plain": [
       "<Figure size 432x288 with 1 Axes>"
      ]
     },
     "metadata": {},
     "output_type": "display_data"
    }
   ],
   "source": [
    "avg_plot.plot()"
   ]
  },
  {
   "cell_type": "code",
   "execution_count": 3,
   "id": "14f05d08",
   "metadata": {},
   "outputs": [],
   "source": [
    "columns = list(range(1, 1201))\n",
    "rows =list(range(1, 3960))\n",
    "Y = pd.DataFrame(0, index=rows, columns=columns)\n",
    "R = pd.DataFrame(0, index=rows, columns=columns)\n",
    "for index, row in users.iterrows():\n",
    "    Y.at[row['MovieID'],row['UserID']] = row['Rating']\n",
    "    R.at[row['MovieID'],row['UserID']] = 1   \n"
   ]
  },
  {
   "cell_type": "markdown",
   "id": "1ab6fc46",
   "metadata": {},
   "source": [
    "## Cost function"
   ]
  },
  {
   "cell_type": "code",
   "execution_count": 9,
   "id": "c068d074",
   "metadata": {},
   "outputs": [],
   "source": [
    "##Cost function\n",
    "def cofiCostFunc(params, Y, R, num_users, num_movies,\n",
    "                      num_features,lambda_=0.0 ):\n",
    "    print(\"Training the Model plz wait\")\n",
    "    \"\"\"\n",
    "    Collaborative filtering cost function.\n",
    "    \n",
    "    Parameters\n",
    "    ----------\n",
    "    params : array_like\n",
    "        The parameters which will be optimized. This is a one\n",
    "        dimensional vector of shape (num_movies x num_users, 1). It is the \n",
    "        concatenation of the feature vectors X and parameters Theta.\n",
    "\n",
    "    Returns\n",
    "    -------\n",
    "    J : float\n",
    "        The value of the cost function at the given params.\n",
    "    \n",
    "    grad : array_like\n",
    "        The gradient vector of the cost function at the given params.\n",
    "        grad has a shape (num_movies x num_users, 1)\n",
    "    \n",
    "    \"\"\"\n",
    "    # Unfold the U and W matrices from params\n",
    "    X = params[:num_movies*num_features].reshape(num_movies, num_features)\n",
    "    Theta = params[num_movies*num_features:].reshape(num_users, num_features)\n",
    "\n",
    "    # You need to return the following values correctly\n",
    "    J = 0\n",
    "    X_grad = np.zeros(X.shape)\n",
    "    Theta_grad = np.zeros(Theta.shape)\n",
    "\n",
    "    # ====================== YOUR CODE HERE ======================\n",
    "    J =np.sum(np.multiply(R ,(X.dot(Theta.T) - Y)**2)/2)\n",
    "    \n",
    "    J+= (lambda_/2)*(np.sum(Theta**2)+np.sum(X**2)) \n",
    "    \n",
    "    for i in range(num_movies):\n",
    "        idx = np.where(R[i, :] == 1)[0]\n",
    "        Theta_temp = Theta[idx, :]\n",
    "        Y_temp = Y[i, idx]\n",
    "        X_grad[i, :] = np.dot(np.dot(X[i, :], Theta_temp.T) - Y_temp, Theta_temp) + (X[i ,:]*lambda_)\n",
    "        \n",
    "    for j in range(num_users):\n",
    "\n",
    "        Theta_temp = Theta[j , :]\n",
    "        Theta_grad[j,:]+= lambda_*Theta_temp\n",
    "        for i in range(num_movies):\n",
    "            if R[i , j]==1:\n",
    "                Theta_grad[j , :]+= np.dot(np.dot(Theta_temp ,X[i]) - Y[ i , j] , X[i])\n",
    "     \n",
    "    # =============================================================\n",
    "    \n",
    "    grad = np.concatenate([X_grad.ravel(), Theta_grad.ravel()])\n",
    "    return J, grad"
   ]
  },
  {
   "cell_type": "markdown",
   "id": "745a91e5",
   "metadata": {},
   "source": [
    "## Training the model"
   ]
  },
  {
   "cell_type": "code",
   "execution_count": 10,
   "id": "9f59bb2b",
   "metadata": {},
   "outputs": [
    {
     "name": "stdout",
     "output_type": "stream",
     "text": [
      "Training the Model plz wait\n",
      "Training the Model plz wait\n",
      "Training the Model plz wait\n",
      "Training the Model plz wait\n",
      "Training the Model plz wait\n",
      "Training the Model plz wait\n",
      "Training the Model plz wait\n",
      "Training the Model plz wait\n",
      "Training the Model plz wait\n",
      "Training the Model plz wait\n",
      "Training the Model plz wait\n",
      "Training the Model plz wait\n",
      "Training the Model plz wait\n",
      "Training the Model plz wait\n",
      "Training the Model plz wait\n",
      "Training the Model plz wait\n",
      "Training the Model plz wait\n",
      "Training the Model plz wait\n",
      "Training the Model plz wait\n",
      "Training the Model plz wait\n",
      "Training the Model plz wait\n",
      "Training the Model plz wait\n",
      "Training the Model plz wait\n",
      "Training the Model plz wait\n",
      "Training the Model plz wait\n",
      "Training the Model plz wait\n",
      "Training the Model plz wait\n",
      "Training the Model plz wait\n",
      "Training the Model plz wait\n",
      "Training the Model plz wait\n",
      "Training the Model plz wait\n",
      "Training the Model plz wait\n",
      "Training the Model plz wait\n",
      "Training the Model plz wait\n",
      "Training the Model plz wait\n",
      "Training the Model plz wait\n",
      "Training the Model plz wait\n",
      "Training the Model plz wait\n",
      "Training the Model plz wait\n",
      "Training the Model plz wait\n",
      "Training the Model plz wait\n",
      "Training the Model plz wait\n",
      "Training the Model plz wait\n",
      "Training the Model plz wait\n",
      "Training the Model plz wait\n",
      "Training the Model plz wait\n",
      "Training the Model plz wait\n",
      "Training the Model plz wait\n",
      "Training the Model plz wait\n",
      "Training the Model plz wait\n",
      "Training the Model plz wait\n",
      "Training the Model plz wait\n",
      "Training the Model plz wait\n",
      "Training the Model plz wait\n",
      "Training the Model plz wait\n",
      "Training the Model plz wait\n",
      "Training the Model plz wait\n",
      "Training the Model plz wait\n",
      "Training the Model plz wait\n",
      "Training the Model plz wait\n",
      "Training the Model plz wait\n",
      "Training the Model plz wait\n",
      "Training the Model plz wait\n",
      "Training the Model plz wait\n",
      "Training the Model plz wait\n",
      "Training the Model plz wait\n",
      "Training the Model plz wait\n",
      "Training the Model plz wait\n",
      "Training the Model plz wait\n",
      "Training the Model plz wait\n",
      "Training the Model plz wait\n",
      "Training the Model plz wait\n",
      "Training the Model plz wait\n",
      "Training the Model plz wait\n",
      "Training the Model plz wait\n",
      "Training the Model plz wait\n",
      "Training the Model plz wait\n",
      "Training the Model plz wait\n",
      "Training the Model plz wait\n",
      "Training the Model plz wait\n",
      "Training the Model plz wait\n",
      "Training the Model plz wait\n",
      "Training the Model plz wait\n",
      "Training the Model plz wait\n",
      "Training the Model plz wait\n",
      "Training the Model plz wait\n",
      "Training the Model plz wait\n",
      "Training the Model plz wait\n",
      "Training the Model plz wait\n",
      "Training the Model plz wait\n",
      "Training the Model plz wait\n",
      "Training the Model plz wait\n",
      "Training the Model plz wait\n",
      "Training the Model plz wait\n",
      "Training the Model plz wait\n",
      "Training the Model plz wait\n",
      "Training the Model plz wait\n",
      "Training the Model plz wait\n",
      "Training the Model plz wait\n",
      "Training the Model plz wait\n",
      "Training the Model plz wait\n",
      "Training the Model plz wait\n",
      "Training the Model plz wait\n",
      "Training the Model plz wait\n",
      "Training the Model plz wait\n",
      "Training the Model plz wait\n",
      "Training the Model plz wait\n",
      "Training the Model plz wait\n",
      "Training the Model plz wait\n",
      "Training the Model plz wait\n",
      "Training the Model plz wait\n",
      "Recommender system learning completed.\n"
     ]
    }
   ],
   "source": [
    "from scipy import optimize\n",
    "#  Now, you will train the collaborative filtering model on a movie rating \n",
    "#  dataset of 1682 movies and 943 users\n",
    "\n",
    "#  Load data\n",
    "# data = loadmat(os.path.join('Data', 'ex8_movies.mat'))\n",
    "# Y, R = data['Y'], data['R']\n",
    "\n",
    "#  Y is a 1682x943 matrix, containing ratings (1-5) of 1682 movies by \n",
    "#  943 users\n",
    "\n",
    "#  R is a 1682x943 matrix, where R(i,j) = 1 if and only if user j gave a\n",
    "#  rating to movie i\n",
    "\n",
    "#  Add our own ratings to the data matrix\n",
    "\n",
    "# Y = np.hstack([my_ratings[:, None], Y])\n",
    "# R = np.hstack([(my_ratings > 0)[:, None], R])\n",
    "\n",
    "#  Normalize Ratings\n",
    "# Ynorm, Ymean = utils.normalizeRatings(Y, R)\n",
    "\n",
    "#  Useful Values\n",
    "num_movies, num_users = Y.shape\n",
    "num_features = 5\n",
    "\n",
    "# Set Initial Parameters (Theta, X)\n",
    "X = np.random.rand(num_movies, num_features)\n",
    "Theta = np.random.randint(1,6 , (num_users, num_features))\n",
    "\n",
    "initial_parameters = np.concatenate([X.ravel(), Theta.ravel()])\n",
    "\n",
    "# Set options for scipy.optimize.minimize\n",
    "options = {'maxiter': 110}\n",
    "count = 0;\n",
    "# Set Regularization\n",
    "lambda_ = 1\n",
    "res = optimize.minimize(lambda x: cofiCostFunc(x, Y, R, num_users,\n",
    "                                               num_movies, num_features,lambda_ ),\n",
    "                        initial_parameters,\n",
    "                        method='TNC',\n",
    "                        jac=True,\n",
    "                        options=options)\n",
    "theta = res.x\n",
    "\n",
    "# Unfold the returned theta back into U and W\n",
    "X = theta[:num_movies*num_features].reshape(num_movies, num_features)\n",
    "Theta = theta[num_movies*num_features:].reshape(num_users, num_features)\n",
    "\n",
    "print('Recommender system learning completed.')"
   ]
  },
  {
   "cell_type": "code",
   "execution_count": 4,
   "id": "b6b5ee22",
   "metadata": {
    "scrolled": true
   },
   "outputs": [],
   "source": [
    "Y=Y.to_numpy()\n",
    "R=R.to_numpy()"
   ]
  },
  {
   "cell_type": "markdown",
   "id": "3299a1b1",
   "metadata": {},
   "source": [
    "## TOP 5 movie recommendetion for user no. t "
   ]
  },
  {
   "cell_type": "code",
   "execution_count": 11,
   "id": "e269cb20",
   "metadata": {},
   "outputs": [
    {
     "name": "stdout",
     "output_type": "stream",
     "text": [
      "[0.63565773 0.65781798 0.68333849 ... 5.37764234 5.43408165 5.46568026]\n",
      "We reccomend user 5 These Movies\n",
      "--------------------------\n",
      "Crows and Sparrows (1949)\n",
      "Meatballs III (1987)\n",
      "Fury, The (1978)\n",
      "Highlander: Endgame (2000)\n",
      "Cutter's Way (1981)\n",
      "No Way Out (1987)\n"
     ]
    }
   ],
   "source": [
    "# np.sum(X[0]*Theta[0])\n",
    "t = 5\n",
    "arr = X.dot(Theta[t])\n",
    "np.sort(arr)\n",
    "print(np.sort(arr))\n",
    "pred  =np.argsort(arr)[0:6:1]\n",
    "print(\"We reccomend user\", t , \"These Movies\")\n",
    "print('--------------------------')\n",
    "for i in pred:\n",
    "    try:\n",
    "        print(data.loc[i,'Movie Name(Year)'])\n",
    "    except:\n",
    "        print('This movie no. is not available in data:(')"
   ]
  },
  {
   "cell_type": "code",
   "execution_count": 8,
   "id": "30005fb1",
   "metadata": {},
   "outputs": [
    {
     "data": {
      "text/plain": [
       "array([[ 2.19386594,  1.19025907,  1.25064353,  1.95066886,  0.74723954],\n",
       "       [ 1.93948813,  1.09873188,  0.82566541,  1.75808626,  1.36810867],\n",
       "       [ 1.5231576 ,  2.02946615,  0.45843561,  1.81021942,  1.00609567],\n",
       "       ...,\n",
       "       [ 1.38785342,  1.54286723,  1.45548903,  0.62262907,  1.35931013],\n",
       "       [ 2.70015422,  1.08040814,  1.31347032,  1.83782368,  0.55786076],\n",
       "       [-0.32732359,  0.180528  ,  2.53673963,  1.84736526,  3.01147454]])"
      ]
     },
     "execution_count": 8,
     "metadata": {},
     "output_type": "execute_result"
    }
   ],
   "source": [
    "Theta"
   ]
  },
  {
   "cell_type": "code",
   "execution_count": 16,
   "id": "81591f4a",
   "metadata": {},
   "outputs": [
    {
     "data": {
      "text/plain": [
       "array([[5, 0, 0, ..., 3, 0, 0],\n",
       "       [0, 0, 0, ..., 0, 0, 0],\n",
       "       [0, 0, 0, ..., 0, 0, 0],\n",
       "       ...,\n",
       "       [0, 0, 0, ..., 0, 0, 0],\n",
       "       [0, 0, 0, ..., 0, 0, 0],\n",
       "       [0, 0, 0, ..., 0, 0, 0]], dtype=int64)"
      ]
     },
     "execution_count": 16,
     "metadata": {},
     "output_type": "execute_result"
    }
   ],
   "source": [
    "Y"
   ]
  },
  {
   "cell_type": "code",
   "execution_count": 15,
   "id": "881d3ba0",
   "metadata": {},
   "outputs": [
    {
     "data": {
      "text/plain": [
       "array([[ 0.39022365,  0.70404112,  0.62054667,  0.75097224,  0.42864136],\n",
       "       [ 0.68701814,  0.51601236, -0.19386243,  1.00722855,  0.35153855],\n",
       "       [ 0.53664925,  0.38272054,  0.73981638,  0.64242158,  0.03133486],\n",
       "       ...,\n",
       "       [ 0.45317769,  0.19160711,  0.40395667,  0.30842045,  0.35171005],\n",
       "       [ 0.39678111,  0.20183767,  0.44493758,  0.39495597,  0.08584594],\n",
       "       [ 0.5369368 ,  0.19473139,  0.37657583,  0.35674678,  0.41395921]])"
      ]
     },
     "execution_count": 15,
     "metadata": {},
     "output_type": "execute_result"
    }
   ],
   "source": [
    "X"
   ]
  },
  {
   "cell_type": "code",
   "execution_count": 23,
   "id": "0992ac10",
   "metadata": {},
   "outputs": [
    {
     "data": {
      "text/plain": [
       "array([[1, 0, 0, ..., 0, 1, 0],\n",
       "       [0, 0, 0, ..., 0, 0, 0],\n",
       "       [0, 0, 0, ..., 0, 0, 0],\n",
       "       ...,\n",
       "       [0, 0, 0, ..., 0, 0, 0],\n",
       "       [0, 0, 0, ..., 0, 0, 0],\n",
       "       [0, 0, 0, ..., 0, 0, 0]], dtype=int64)"
      ]
     },
     "execution_count": 23,
     "metadata": {},
     "output_type": "execute_result"
    }
   ],
   "source": [
    "R"
   ]
  },
  {
   "cell_type": "code",
   "execution_count": 34,
   "id": "013fefca",
   "metadata": {},
   "outputs": [
    {
     "data": {
      "text/plain": [
       "0.7732945073637887"
      ]
     },
     "execution_count": 34,
     "metadata": {},
     "output_type": "execute_result"
    }
   ],
   "source": [
    "np.sqrt(np.sum((Y.T - R.T*Theta.dot(X.T))**2)/73870)"
   ]
  }
 ],
 "metadata": {
  "kernelspec": {
   "display_name": "Python 3",
   "language": "python",
   "name": "python3"
  },
  "language_info": {
   "codemirror_mode": {
    "name": "ipython",
    "version": 3
   },
   "file_extension": ".py",
   "mimetype": "text/x-python",
   "name": "python",
   "nbconvert_exporter": "python",
   "pygments_lexer": "ipython3",
   "version": "3.8.3"
  }
 },
 "nbformat": 4,
 "nbformat_minor": 5
}
